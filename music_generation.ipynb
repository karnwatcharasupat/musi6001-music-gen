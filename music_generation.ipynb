{
  "nbformat": 4,
  "nbformat_minor": 0,
  "metadata": {
    "colab": {
      "provenance": [],
      "authorship_tag": "ABX9TyMYIiIhWr3oa2n5NPy2/0XZ",
      "include_colab_link": true
    },
    "kernelspec": {
      "name": "python3",
      "display_name": "Python 3"
    },
    "language_info": {
      "name": "python"
    }
  },
  "cells": [
    {
      "cell_type": "markdown",
      "metadata": {
        "id": "view-in-github",
        "colab_type": "text"
      },
      "source": [
        "<a href=\"https://colab.research.google.com/github/karnwatcharasupat/musi6001-music-gen/blob/main/music_generation.ipynb\" target=\"_parent\"><img src=\"https://colab.research.google.com/assets/colab-badge.svg\" alt=\"Open In Colab\"/></a>"
      ]
    },
    {
      "cell_type": "markdown",
      "source": [
        "# MUSI6001 Music Perception & Cognition: Cognitive Modeling and Music Generation"
      ],
      "metadata": {
        "id": "VP3FNFfjnymx"
      }
    },
    {
      "cell_type": "markdown",
      "source": [
        "## Installation"
      ],
      "metadata": {
        "id": "aOBh8rDFoHEa"
      }
    },
    {
      "cell_type": "code",
      "execution_count": null,
      "metadata": {
        "id": "kahm6Z8v_TqC"
      },
      "outputs": [],
      "source": [
        "!sudo apt install -y fluidsynth"
      ]
    },
    {
      "cell_type": "code",
      "execution_count": null,
      "metadata": {
        "id": "M0lAReB7_Vqb"
      },
      "outputs": [],
      "source": [
        "!pip install --upgrade pyfluidsynth"
      ]
    },
    {
      "cell_type": "code",
      "execution_count": null,
      "metadata": {
        "id": "G46kKoQZmIa8"
      },
      "outputs": [],
      "source": [
        "!pip install pretty_midi"
      ]
    },
    {
      "cell_type": "code",
      "source": [
        "!pip install librosa"
      ],
      "metadata": {
        "id": "oAsToFPhorVN"
      },
      "execution_count": null,
      "outputs": []
    },
    {
      "cell_type": "code",
      "source": [
        "!pip install mingus"
      ],
      "metadata": {
        "id": "D0KvS8kgnEGK"
      },
      "execution_count": null,
      "outputs": []
    },
    {
      "cell_type": "markdown",
      "source": [
        "## Code"
      ],
      "metadata": {
        "id": "0iEocD6joNHa"
      }
    },
    {
      "cell_type": "code",
      "execution_count": 7,
      "metadata": {
        "id": "BLYlnzPki1cD"
      },
      "outputs": [],
      "source": [
        "import numpy as np\n",
        "\n",
        "from IPython.display import Audio\n",
        "import soundfile as sf\n",
        "import pretty_midi\n",
        "\n",
        "from librosa import midi_to_note, note_to_midi\n",
        "from mingus.core import keys, notes, chords, progressions\n",
        "from mingus.core.intervals import from_shorthand\n",
        "\n",
        "import os"
      ]
    },
    {
      "cell_type": "code",
      "source": [
        "# Adapted from Magenta's code\n",
        "\n",
        "def display_audio(midi: pretty_midi.PrettyMIDI, out=None, fs=44100, limit_seconds=60):\n",
        "  waveform = midi.fluidsynth(fs=fs)\n",
        "\n",
        "  if out is not None:\n",
        "    sf.write(out, waveform, fs)\n",
        "  # Take a sample of the generated waveform to mitigate kernel resets\n",
        "  waveform_short = waveform[:limit_seconds*fs]\n",
        "  \n",
        "  return Audio(waveform_short, rate=fs)"
      ],
      "metadata": {
        "id": "rY1Y1htFkDBv"
      },
      "execution_count": 8,
      "outputs": []
    },
    {
      "cell_type": "code",
      "source": [
        "from itertools import chain\n",
        "from collections import defaultdict\n",
        "\n",
        "def respell_enharmonic(n):\n",
        "  if \"#\" in n:\n",
        "    return notes.int_to_note(notes.note_to_int(n), accidentals='b')\n",
        "  elif \"b\" in n:\n",
        "    return notes.int_to_note(notes.note_to_int(n))\n",
        "  else:\n",
        "    return n\n",
        "\n",
        "\n",
        "def respell_chord(c):\n",
        "  c0 = c\n",
        "  n = c.lower().replace(\"7\", \"\").replace(\"dim\", \"\").replace(\"m\", \"\").capitalize()\n",
        "  f = c0.replace(n, \"\")\n",
        "  n = respell_enharmonic(n)\n",
        "\n",
        "  return n + f\n",
        "\n",
        "\n",
        "class MusicActivation():\n",
        "  def __init__(\n",
        "      self,\n",
        "      midi_min=36,\n",
        "      midi_max=96,\n",
        "      note_decay=0.9,\n",
        "      chord_decay=0.99,\n",
        "      key_decay=0.999,\n",
        "      curr_key_mult=100,\n",
        "  ):\n",
        "    self.indices = np.arange(midi_max-midi_min+1)\n",
        "    self.midis = np.arange(midi_min, midi_max+1)\n",
        "    self.notes = np.array(\n",
        "        [midi_to_note(m, octave=False, unicode=False) for m in self.midis]\n",
        "    )\n",
        "    self.note_activations = np.zeros_like(self.notes, dtype=float)\n",
        "    self.curr_note_activations = np.zeros_like(self.notes, dtype=float)\n",
        "\n",
        "    self.keys = np.array(keys.major_keys + keys.minor_keys)\n",
        "    self.key_activations = np.zeros_like(self.keys, dtype=float)\n",
        "\n",
        "    self.chords = np.array(list(chain(*[\n",
        "        [f\"{k}M\", f\"{k}m\", f\"{k}dim\", f\"{k}M7\", f\"{k}m7\"] for k in [notes.int_to_note(i) for i in range(12)]\n",
        "    ])))\n",
        "    self.chord_activations = np.zeros_like(self.chords, dtype=float)\n",
        "\n",
        "    self.notes_in_chord = {\n",
        "        c: list(set([respell_enharmonic(n) for n in chords.from_shorthand(c)])) for c in self.chords\n",
        "    }\n",
        "\n",
        "    self.chords_in_note = defaultdict(set)\n",
        "\n",
        "    for c, ns in self.notes_in_chord.items():\n",
        "      for n in ns:\n",
        "        self.chords_in_note[respell_enharmonic(n)].add(c)\n",
        "\n",
        "    self.chords_in_key = defaultdict(set)\n",
        "    self.keys_in_chord = defaultdict(set)\n",
        "\n",
        "    for k in self.keys:\n",
        "\n",
        "      chords_of_key = [\n",
        "            chords.determine_triad(c, shorthand=True, no_inversions=True)[0] for c in [\n",
        "                chords.tonic(k), \n",
        "                chords.supertonic(k), \n",
        "                chords.mediant(k), \n",
        "                chords.subdominant(k), \n",
        "                chords.dominant(k), \n",
        "                chords.submediant(k), \n",
        "                chords.subtonic(k),\n",
        "            ]\n",
        "        ] + [\n",
        "            chords.determine_seventh(c, shorthand=True)[0] for c in [\n",
        "                chords.tonic7(k), \n",
        "                chords.supertonic7(k), \n",
        "                chords.mediant7(k), \n",
        "                chords.subdominant7(k), \n",
        "                chords.dominant7(k), \n",
        "                chords.submediant7(k), \n",
        "                chords.subtonic7(k),\n",
        "            ]\n",
        "        ] \n",
        "      self.chords_in_key[k] = chords_of_key\n",
        "\n",
        "      for c in chords_of_key:\n",
        "        self.keys_in_chord[c].add(k)\n",
        "\n",
        "\n",
        "    self.chords_in_note = {k: list(v) for k, v in self.chords_in_note.items()}\n",
        "    self.chords_in_key = {k: list(v) for k, v in self.chords_in_key.items()}\n",
        "    self.keys_in_chord = {k: list(v) for k, v in self.keys_in_chord.items()}\n",
        "\n",
        "    self.curr_key = None\n",
        "    self.curr_chord = None\n",
        "\n",
        "    self.curr_key_mult = curr_key_mult\n",
        "    # self.curr_chord_mult = curr_chord_mult\n",
        "\n",
        "    self.note_decay = note_decay\n",
        "    self.chord_decay = chord_decay\n",
        "    self.key_decay = key_decay\n",
        "  \n",
        "  def activate_chords_from_note(self, note):\n",
        "    # print(note)\n",
        "    if note not in self.chords_in_note:\n",
        "      note = respell_enharmonic(note)\n",
        "    \n",
        "    chord_act = np.zeros_like(self.chord_activations)\n",
        "\n",
        "    activated_chords = self.chords_in_note[note]\n",
        "    for i, c in enumerate(self.chords):\n",
        "      if c in activated_chords:\n",
        "        chord_act[i] += 1\n",
        "\n",
        "    self.chord_activations += chord_act\n",
        "\n",
        "    return chord_act\n",
        "\n",
        "\n",
        "  def activate_keys_from_chords(self, chord_act):\n",
        "    key_act = np.zeros_like(self.key_activations)\n",
        "    \n",
        "    for c in self.chords[chord_act > 0]:\n",
        "      \n",
        "      if c not in self.keys_in_chord:\n",
        "        c = respell_chord(c)\n",
        "      activated_keys = self.keys_in_chord[c]\n",
        "      for i, k in enumerate(self.keys):\n",
        "        if k in activated_keys:\n",
        "          key_act[i] += 1\n",
        "\n",
        "    self.key_activations += key_act\n",
        "    \n",
        "    return key_act\n",
        "\n",
        "  \n",
        "  def activate_chords_from_keys(self, key_act):\n",
        "    chord_act = np.zeros_like(self.chord_activations)\n",
        "\n",
        "    for k in self.keys[key_act > 0]:\n",
        "      if k == self.curr_key:\n",
        "        act = self.curr_key_mult\n",
        "      else:\n",
        "        act = 1\n",
        "\n",
        "      activated_chords = self.chords_in_key[k]\n",
        "\n",
        "      for i, c in enumerate(self.chords):\n",
        "        if c in activated_chords:\n",
        "          chord_act[i] += act\n",
        "\n",
        "    self.chord_activations += chord_act\n",
        "\n",
        "    return chord_act\n",
        "\n",
        "  def activate_notes_from_chords(self, chord_act):\n",
        "    note_act = np.zeros_like(self.note_activations)\n",
        "\n",
        "    for c in self.chords[chord_act > 0]:\n",
        "      activated_notes = self.notes_in_chord[c]\n",
        "      # print(activated_notes)\n",
        "\n",
        "      for i, n in enumerate(self.notes):\n",
        "        if n in activated_notes or respell_enharmonic(n) in activated_notes:\n",
        "          note_act[i] += 1\n",
        "\n",
        "    self.note_activations += note_act\n",
        "\n",
        "    return note_act\n",
        "   \n",
        "\n",
        "  def activate(\n",
        "      self,\n",
        "      index,\n",
        "      note\n",
        "  ):\n",
        "    \n",
        "    self.key_activations *= self.key_decay\n",
        "    self.chord_activations *= self.chord_decay \n",
        "    self.note_activations *= self.note_decay\n",
        "    \n",
        "    chord_act = self.activate_chords_from_note(note)\n",
        "    # print(self.chord_activations)\n",
        "    key_act = self.activate_keys_from_chords(chord_act)\n",
        "    # print(self.key_activations)\n",
        "    chord_act = self.activate_chords_from_keys(key_act)\n",
        "    # print(self.chord_activations)\n",
        "    _ = self.activate_notes_from_chords(chord_act)\n",
        "    # print(self.note_activations)\n",
        "\n",
        "\n",
        "    # proximity rule\n",
        "    prox = np.power(np.maximum(np.abs(self.indices - index), 4.0), -2.0)\n",
        "    prox = (prox - np.min(prox))/np.ptp(prox) * np.std(self.note_activations)\n",
        "    self.curr_note_activations = self.note_activations + prox\n",
        "\n",
        "  def next_note(self, p=None):\n",
        "    if p is None:\n",
        "      p = self.curr_note_activations/np.sum(self.curr_note_activations)\n",
        "    else:\n",
        "      p = p/np.sum(p)\n",
        "\n",
        "    i = np.random.choice(self.indices, p=p)\n",
        "    note = self.notes[i]\n",
        "\n",
        "    return i, note\n",
        "\n",
        "  def current_chord(self):\n",
        "    p = self.chord_activations/np.sum(self.chord_activations)\n",
        "    c = np.random.choice(self.chords, p=p)\n",
        "\n",
        "    self.curr_chord = c\n",
        "\n",
        "    return c\n",
        "\n",
        "  def current_key(self):\n",
        "    k = self.keys[np.argmax(self.key_activations)]\n",
        "\n",
        "    self.curr_key = k\n",
        "\n",
        "    return k\n",
        "\n",
        "  def generate(self, max_notes=128, discard_first_n=0):\n",
        "\n",
        "    note_out = [None for _ in range(max_notes)]\n",
        "    chord_out = [None for _ in range(max_notes)]\n",
        "\n",
        "    prev_key = None\n",
        "\n",
        "    for t in range(discard_first_n):\n",
        "      i, note = self.next_note(p=np.ones_like(self.midis) if t == 0 else None)\n",
        "      self.activate(i, note)\n",
        "\n",
        "    for t in range(max_notes):\n",
        "      i, note = self.next_note(p=np.ones_like(self.midis) if (t == 0 and discard_first_n == 0) else None)\n",
        "      self.activate(i, note)\n",
        "      curr_key = self.current_key()\n",
        "      chord_out[t] = self.current_chord()\n",
        "      note_out[t] = self.midis[i]      \n",
        "\n",
        "      if t > max_notes/2:\n",
        "        prog = progressions.determine([chords.from_shorthand(chord_out[t-1]), chords.from_shorthand(chord_out[t])], \n",
        "             curr_key, \n",
        "             shorthand=True)\n",
        "        prog = [p[0].replace(\"7\", \"\") for p in prog]\n",
        "        # print(prog)\n",
        "\n",
        "        if prog == [\"V\", \"I\"]:\n",
        "          print(\"PERFECT CADENCE\")\n",
        "          break\n",
        "        \n",
        "\n",
        "      if prev_key is not None and prev_key != curr_key:\n",
        "        print(f\"KEY CHANGE @ {t}: {prev_key} --> {curr_key}\")\n",
        "\n",
        "      prev_key = curr_key\n",
        "\n",
        "    note_out = note_out[:t]\n",
        "    chord_out = chord_out[:t]\n",
        "\n",
        "    return note_out, chord_out"
      ],
      "metadata": {
        "id": "pHzSpMq-oFM2"
      },
      "execution_count": 34,
      "outputs": []
    },
    {
      "cell_type": "code",
      "source": [
        "def generate(filename=None, discard_first_n=32):\n",
        "\n",
        "  ma = MusicActivation(midi_min=note_to_midi('F4'), midi_max=note_to_midi('F6'))\n",
        "  seq = ma.generate(max_notes=64, discard_first_n=discard_first_n)\n",
        "\n",
        "  bpm = 100\n",
        "  pm = pretty_midi.PrettyMIDI(resolution=220, initial_tempo=bpm)\n",
        "  cello_program = pretty_midi.instrument_name_to_program('Piccolo')\n",
        "  cello = pretty_midi.Instrument(program=cello_program)\n",
        "\n",
        "  piano_program = pretty_midi.instrument_name_to_program('Vibraphone')\n",
        "  piano = pretty_midi.Instrument(program=piano_program)\n",
        "\n",
        "  qlen = 60.0/bpm\n",
        "\n",
        "  start = 0\n",
        "\n",
        "  beats = 0\n",
        "  prevBeats = -1\n",
        "  chorded = False\n",
        "\n",
        "  n_notes = len(seq[0])\n",
        "\n",
        "  for t, (m, c) in enumerate(zip(*seq)):\n",
        "\n",
        "\n",
        "    if t == n_notes - 1:\n",
        "      dur = 2\n",
        "    elif t == n_notes - 2:\n",
        "      dur = 0.5\n",
        "    elif t == n_notes - 3:\n",
        "      dur = 1.5\n",
        "    elif t == n_notes - 4:\n",
        "      dur = np.ceil(start) - start\n",
        "      if dur == 0:\n",
        "        dur = 1\n",
        "    else:\n",
        "      if np.round(beats) - beats == 0.5:\n",
        "        dur = np.random.choice([0.25, 0.5, 0.75, 1], p=[0.5, 0.375, 0, 0.125])\n",
        "      elif np.ceil(beats) - beats == 0.25:\n",
        "        dur = 0.25\n",
        "      elif np.ceil(beats) - beats == 0.75:\n",
        "        dur = np.random.choice([0.25, 0.5, 0.75, 1], p=[0.25, 0.375, 0.375, 0])\n",
        "      else:\n",
        "        dur = np.random.choice([0.25, 0.5, 0.75, 1], p=[0.25, 0.375, 0.25, 0.125])\n",
        "\n",
        "    note = pretty_midi.Note(velocity=64, pitch=m, start=start, end=start+dur*qlen)\n",
        "    cello.notes.append(note)\n",
        "\n",
        "    if not chorded:\n",
        "      for i, n in enumerate(chords.from_shorthand(c)):\n",
        "        piano.notes.append(\n",
        "            pretty_midi.Note(\n",
        "                velocity=48, \n",
        "                pitch=pretty_midi.note_name_to_number(notes.reduce_accidentals(n) + \"3\"), \n",
        "                start=start+i*0.25*qlen, \n",
        "                end=start+1.5*qlen\n",
        "            )\n",
        "        )\n",
        "      chorded = True\n",
        "    \n",
        "    start += dur*qlen\n",
        "    prevBeats = beats\n",
        "    beats += dur\n",
        "\n",
        "    if np.floor(prevBeats/2) < np.floor(beats/2):\n",
        "      chorded = False\n",
        "\n",
        "  pm.instruments.append(cello)\n",
        "  pm.instruments.append(piano)\n",
        "\n",
        "  if filename is not None:\n",
        "    os.makedirs(os.path.join(\"/content\", \"musgen\", \"midi\"), exist_ok=True)\n",
        "    os.makedirs(os.path.join(\"/content\", \"musgen\", \"wav\"), exist_ok=True)\n",
        "\n",
        "    pm.write(os.path.join(\"/content\", \"musgen\", \"midi\", f\"{filename}.mid\"))\n",
        "\n",
        "    display_audio(pm, out=os.path.join(\"/content\", \"musgen\", \"wav\", f\"{filename}.wav\"))\n",
        "\n",
        "  return pm"
      ],
      "metadata": {
        "id": "RjS2vvZNnKnv"
      },
      "execution_count": 43,
      "outputs": []
    },
    {
      "cell_type": "code",
      "source": [
        "from tqdm.notebook import tqdm\n",
        "\n",
        "np.random.seed(42)\n",
        "\n",
        "for i in tqdm(range(50)):\n",
        "  print(f\"Generating {i}th piece\")\n",
        "  generate(f\"{i:02d}\")"
      ],
      "metadata": {
        "id": "EYRFRTPUes9V"
      },
      "execution_count": null,
      "outputs": []
    },
    {
      "cell_type": "code",
      "source": [
        "import shutil\n",
        "shutil.make_archive(\"/content/musgen-midi\", 'zip', \"/content/musgen/midi\")"
      ],
      "metadata": {
        "colab": {
          "base_uri": "https://localhost:8080/",
          "height": 36
        },
        "id": "SitChgnDiMyX",
        "outputId": "63252dd7-ced6-47fd-fdad-6dfec909b48e"
      },
      "execution_count": 32,
      "outputs": [
        {
          "output_type": "execute_result",
          "data": {
            "text/plain": [
              "'/content/musgen-midi.zip'"
            ],
            "application/vnd.google.colaboratory.intrinsic+json": {
              "type": "string"
            }
          },
          "metadata": {},
          "execution_count": 32
        }
      ]
    }
  ]
}